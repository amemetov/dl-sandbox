{
 "cells": [
  {
   "cell_type": "markdown",
   "metadata": {},
   "source": [
    "# Softmax exercise\n",
    "\n",
    "*Complete and hand in this completed worksheet (including its outputs and any supporting code outside of the worksheet) with your assignment submission. For more details see the [assignments page](http://vision.stanford.edu/teaching/cs231n/assignments.html) on the course website.*\n",
    "\n",
    "This exercise is analogous to the SVM exercise. You will:\n",
    "\n",
    "- implement a fully-vectorized **loss function** for the Softmax classifier\n",
    "- implement the fully-vectorized expression for its **analytic gradient**\n",
    "- **check your implementation** with numerical gradient\n",
    "- use a validation set to **tune the learning rate and regularization** strength\n",
    "- **optimize** the loss function with **SGD**\n",
    "- **visualize** the final learned weights\n"
   ]
  },
  {
   "cell_type": "code",
   "execution_count": 1,
   "metadata": {
    "collapsed": false
   },
   "outputs": [],
   "source": [
    "import random\n",
    "import numpy as np\n",
    "from cs231n.data_utils import load_CIFAR10\n",
    "import matplotlib.pyplot as plt\n",
    "%matplotlib inline\n",
    "plt.rcParams['figure.figsize'] = (10.0, 8.0) # set default size of plots\n",
    "plt.rcParams['image.interpolation'] = 'nearest'\n",
    "plt.rcParams['image.cmap'] = 'gray'\n",
    "\n",
    "# for auto-reloading extenrnal modules\n",
    "# see http://stackoverflow.com/questions/1907993/autoreload-of-modules-in-ipython\n",
    "%load_ext autoreload\n",
    "%autoreload 2"
   ]
  },
  {
   "cell_type": "code",
   "execution_count": 2,
   "metadata": {
    "collapsed": false
   },
   "outputs": [
    {
     "name": "stdout",
     "output_type": "stream",
     "text": [
      "Train data shape:  (49000L, 3073L)\n",
      "Train labels shape:  (49000L,)\n",
      "Validation data shape:  (1000L, 3073L)\n",
      "Validation labels shape:  (1000L,)\n",
      "Test data shape:  (1000L, 3073L)\n",
      "Test labels shape:  (1000L,)\n",
      "dev data shape:  (500L, 3073L)\n",
      "dev labels shape:  (500L,)\n"
     ]
    }
   ],
   "source": [
    "def get_CIFAR10_data(num_training=49000, num_validation=1000, num_test=1000, num_dev=500):\n",
    "  \"\"\"\n",
    "  Load the CIFAR-10 dataset from disk and perform preprocessing to prepare\n",
    "  it for the linear classifier. These are the same steps as we used for the\n",
    "  SVM, but condensed to a single function.  \n",
    "  \"\"\"\n",
    "  # Load the raw CIFAR-10 data\n",
    "  cifar10_dir = 'cs231n/datasets/cifar-10-batches-py'\n",
    "  X_train, y_train, X_test, y_test = load_CIFAR10(cifar10_dir)\n",
    "  \n",
    "  # subsample the data\n",
    "  mask = range(num_training, num_training + num_validation)\n",
    "  X_val = X_train[mask]\n",
    "  y_val = y_train[mask]\n",
    "  mask = range(num_training)\n",
    "  X_train = X_train[mask]\n",
    "  y_train = y_train[mask]\n",
    "  mask = range(num_test)\n",
    "  X_test = X_test[mask]\n",
    "  y_test = y_test[mask]\n",
    "  mask = np.random.choice(num_training, num_dev, replace=False)\n",
    "  X_dev = X_train[mask]\n",
    "  y_dev = y_train[mask]\n",
    "  \n",
    "  # Preprocessing: reshape the image data into rows\n",
    "  X_train = np.reshape(X_train, (X_train.shape[0], -1))\n",
    "  X_val = np.reshape(X_val, (X_val.shape[0], -1))\n",
    "  X_test = np.reshape(X_test, (X_test.shape[0], -1))\n",
    "  X_dev = np.reshape(X_dev, (X_dev.shape[0], -1))\n",
    "  \n",
    "  # Normalize the data: subtract the mean image\n",
    "  mean_image = np.mean(X_train, axis = 0)\n",
    "  X_train -= mean_image\n",
    "  X_val -= mean_image\n",
    "  X_test -= mean_image\n",
    "  X_dev -= mean_image\n",
    "  \n",
    "  # add bias dimension and transform into columns\n",
    "  X_train = np.hstack([X_train, np.ones((X_train.shape[0], 1))])\n",
    "  X_val = np.hstack([X_val, np.ones((X_val.shape[0], 1))])\n",
    "  X_test = np.hstack([X_test, np.ones((X_test.shape[0], 1))])\n",
    "  X_dev = np.hstack([X_dev, np.ones((X_dev.shape[0], 1))])\n",
    "  \n",
    "  return X_train, y_train, X_val, y_val, X_test, y_test, X_dev, y_dev\n",
    "\n",
    "\n",
    "# Invoke the above function to get our data.\n",
    "X_train, y_train, X_val, y_val, X_test, y_test, X_dev, y_dev = get_CIFAR10_data()\n",
    "print 'Train data shape: ', X_train.shape\n",
    "print 'Train labels shape: ', y_train.shape\n",
    "print 'Validation data shape: ', X_val.shape\n",
    "print 'Validation labels shape: ', y_val.shape\n",
    "print 'Test data shape: ', X_test.shape\n",
    "print 'Test labels shape: ', y_test.shape\n",
    "print 'dev data shape: ', X_dev.shape\n",
    "print 'dev labels shape: ', y_dev.shape"
   ]
  },
  {
   "cell_type": "markdown",
   "metadata": {},
   "source": [
    "## Softmax Classifier\n",
    "\n",
    "Your code for this section will all be written inside **cs231n/classifiers/softmax.py**. \n"
   ]
  },
  {
   "cell_type": "code",
   "execution_count": 3,
   "metadata": {
    "collapsed": false
   },
   "outputs": [
    {
     "name": "stdout",
     "output_type": "stream",
     "text": [
      "loss: 2.339466\n",
      "sanity check: 2.302585\n"
     ]
    }
   ],
   "source": [
    "# First implement the naive softmax loss function with nested loops.\n",
    "# Open the file cs231n/classifiers/softmax.py and implement the\n",
    "# softmax_loss_naive function.\n",
    "\n",
    "from cs231n.classifiers.softmax import softmax_loss_naive\n",
    "import time\n",
    "\n",
    "# Generate a random softmax weight matrix and use it to compute the loss.\n",
    "W = np.random.randn(3073, 10) * 0.0001\n",
    "loss, grad = softmax_loss_naive(W, X_dev, y_dev, 0.0)\n",
    "\n",
    "# As a rough sanity check, our loss should be something close to -log(0.1).\n",
    "print 'loss: %f' % loss\n",
    "print 'sanity check: %f' % (-np.log(0.1))"
   ]
  },
  {
   "cell_type": "markdown",
   "metadata": {},
   "source": [
    "## Inline Question 1:\n",
    "Why do we expect our loss to be close to -log(0.1)? Explain briefly.**\n",
    "\n",
    "**Your answer:** *Fill this in*\n"
   ]
  },
  {
   "cell_type": "code",
   "execution_count": 4,
   "metadata": {
    "collapsed": false
   },
   "outputs": [
    {
     "name": "stdout",
     "output_type": "stream",
     "text": [
      "numerical: 1.381949 analytic: 1.381949, relative error: 2.910771e-08\n",
      "numerical: 0.103229 analytic: 0.103229, relative error: 2.472712e-07\n",
      "numerical: 1.370971 analytic: 1.370971, relative error: 4.679990e-08\n",
      "numerical: 5.094558 analytic: 5.094558, relative error: 1.396934e-09\n",
      "numerical: 1.157816 analytic: 1.157816, relative error: 6.067613e-08\n",
      "numerical: -0.503864 analytic: -0.503864, relative error: 5.333816e-08\n",
      "numerical: 1.003882 analytic: 1.003882, relative error: 4.450375e-09\n",
      "numerical: -1.793362 analytic: -1.793362, relative error: 1.160746e-08\n",
      "numerical: -0.989180 analytic: -0.989180, relative error: 5.041744e-08\n",
      "numerical: -0.517415 analytic: -0.517415, relative error: 2.093201e-08\n",
      "numerical: 0.702494 analytic: 0.719286, relative error: 1.181057e-02\n",
      "numerical: 2.756631 analytic: 2.777630, relative error: 3.794396e-03\n",
      "numerical: 1.848237 analytic: 1.846156, relative error: 5.632729e-04\n",
      "numerical: -0.237995 analytic: -0.243136, relative error: 1.068594e-02\n",
      "numerical: 0.053277 analytic: 0.035805, relative error: 1.961275e-01\n",
      "numerical: -0.580713 analytic: -0.585277, relative error: 3.914667e-03\n",
      "numerical: -0.114325 analytic: -0.136982, relative error: 9.015747e-02\n",
      "numerical: -1.919687 analytic: -1.910523, relative error: 2.392480e-03\n",
      "numerical: -0.322379 analytic: -0.301199, relative error: 3.396396e-02\n",
      "numerical: -2.054021 analytic: -2.056324, relative error: 5.602782e-04\n"
     ]
    }
   ],
   "source": [
    "# Complete the implementation of softmax_loss_naive and implement a (naive)\n",
    "# version of the gradient that uses nested loops.\n",
    "loss, grad = softmax_loss_naive(W, X_dev, y_dev, 0.0)\n",
    "\n",
    "# As we did for the SVM, use numeric gradient checking as a debugging tool.\n",
    "# The numeric gradient should be close to the analytic gradient.\n",
    "from cs231n.gradient_check import grad_check_sparse\n",
    "f = lambda w: softmax_loss_naive(w, X_dev, y_dev, 0.0)[0]\n",
    "grad_numerical = grad_check_sparse(f, W, grad, 10)\n",
    "\n",
    "# similar to SVM case, do another gradient check with regularization\n",
    "loss, grad = softmax_loss_naive(W, X_dev, y_dev, 1e2)\n",
    "f = lambda w: softmax_loss_naive(w, X_dev, y_dev, 1e2)[0]\n",
    "grad_numerical = grad_check_sparse(f, W, grad, 10)"
   ]
  },
  {
   "cell_type": "code",
   "execution_count": 24,
   "metadata": {
    "collapsed": false
   },
   "outputs": [
    {
     "name": "stdout",
     "output_type": "stream",
     "text": [
      "naive loss: 2.339466e+00 computed in 0.084000s\n",
      "y:  [1 6 9 6 0]\n",
      "Probs:  [[ 0.10498233  0.14353551  0.0648872   0.08276109  0.12552029  0.05010038\n",
      "   0.09980878  0.14092669  0.13136659  0.05611113]\n",
      " [ 0.1062994   0.09003692  0.09775217  0.10536653  0.0966185   0.1319432\n",
      "   0.09482144  0.09723565  0.06833084  0.11159534]\n",
      " [ 0.09508937  0.10528166  0.06735867  0.133893    0.08236581  0.10327103\n",
      "   0.07041779  0.03256732  0.11375502  0.19600033]\n",
      " [ 0.11690784  0.11121225  0.06891767  0.09659544  0.12874158  0.10827677\n",
      "   0.11959667  0.11065959  0.07621614  0.06287606]\n",
      " [ 0.10740658  0.08926352  0.14961895  0.10469068  0.07918574  0.10093953\n",
      "   0.0868986   0.09576477  0.13137686  0.05485479]]\n",
      "LossProbs:  [[ 1.          0.14353551  1.          1.          1.          1.          1.\n",
      "   1.          1.          1.        ]\n",
      " [ 1.          1.          1.          1.          1.          1.\n",
      "   0.09482144  1.          1.          1.        ]\n",
      " [ 1.          1.          1.          1.          1.          1.          1.\n",
      "   1.          1.          0.19600033]\n",
      " [ 1.          1.          1.          1.          1.          1.\n",
      "   0.11959667  1.          1.          1.        ]\n",
      " [ 0.10740658  1.          1.          1.          1.          1.          1.\n",
      "   1.          1.          1.        ]]\n",
      "Minus1:  [[ 0.10498233 -0.85646449  0.0648872   0.08276109  0.12552029  0.05010038\n",
      "   0.09980878  0.14092669  0.13136659  0.05611113]\n",
      " [ 0.1062994   0.09003692  0.09775217  0.10536653  0.0966185   0.1319432\n",
      "  -0.90517856  0.09723565  0.06833084  0.11159534]\n",
      " [ 0.09508937  0.10528166  0.06735867  0.133893    0.08236581  0.10327103\n",
      "   0.07041779  0.03256732  0.11375502 -0.80399967]\n",
      " [ 0.11690784  0.11121225  0.06891767  0.09659544  0.12874158  0.10827677\n",
      "  -0.88040333  0.11065959  0.07621614  0.06287606]\n",
      " [-0.89259342  0.08926352  0.14961895  0.10469068  0.07918574  0.10093953\n",
      "   0.0868986   0.09576477  0.13137686  0.05485479]]\n",
      "dW.shape:  (3073L, 10L)\n",
      "probabilities.shape:  (500L, 10L)\n",
      "X.shape:  (500L, 3073L)\n",
      "y.shape:  (500L,)\n",
      "dW.shape:  (3073L, 10L)\n",
      "vectorized loss: 2.339466e+00 computed in 0.006000s\n",
      "Loss difference: 0.000000\n",
      "Gradient difference: 0.000000\n"
     ]
    }
   ],
   "source": [
    "# Now that we have a naive implementation of the softmax loss function and its gradient,\n",
    "# implement a vectorized version in softmax_loss_vectorized.\n",
    "# The two versions should compute the same results, but the vectorized version should be\n",
    "# much faster.\n",
    "tic = time.time()\n",
    "loss_naive, grad_naive = softmax_loss_naive(W, X_dev, y_dev, 0.00001)\n",
    "toc = time.time()\n",
    "print 'naive loss: %e computed in %fs' % (loss_naive, toc - tic)\n",
    "\n",
    "from cs231n.classifiers.softmax import softmax_loss_vectorized\n",
    "tic = time.time()\n",
    "loss_vectorized, grad_vectorized = softmax_loss_vectorized(W, X_dev, y_dev, 0.00001)\n",
    "toc = time.time()\n",
    "print 'vectorized loss: %e computed in %fs' % (loss_vectorized, toc - tic)\n",
    "\n",
    "# As we did for the SVM, we use the Frobenius norm to compare the two versions\n",
    "# of the gradient.\n",
    "grad_difference = np.linalg.norm(grad_naive - grad_vectorized, ord='fro')\n",
    "print 'Loss difference: %f' % np.abs(loss_naive - loss_vectorized)\n",
    "print 'Gradient difference: %f' % grad_difference"
   ]
  },
  {
   "cell_type": "code",
   "execution_count": 15,
   "metadata": {
    "collapsed": false
   },
   "outputs": [
    {
     "name": "stdout",
     "output_type": "stream",
     "text": [
      "-----------------------------------------\n",
      "Start Softmax lr 1.000000e-07 reg 5.000000e+04 \n",
      "Permutation:  [ 7743 14645 11003 ..., 42023 26445 22429]\n",
      "iteration 0 / 150: loss 1555.261005\n",
      "iteration 100 / 150: loss 940.411008\n",
      "Softmax.predict\n",
      "training accuracy: 0.163633\n",
      "Softmax.predict\n",
      "validation accuracy: 0.159000\n",
      "-----------------------------------------\n",
      "Start Softmax lr 1.000000e-07 reg 1.000000e+08 \n",
      "Permutation:  [46657 25855 35454 ..., 43511 27132  3625]\n",
      "iteration 0 / 150: loss 3108266.104092\n",
      "iteration 100 / 150: loss inf\n",
      "Softmax.predict\n",
      "training accuracy: 0.100265\n",
      "Softmax.predict\n",
      "validation accuracy: 0.087000\n",
      "-----------------------------------------\n",
      "Start Softmax lr 5.000000e-07 reg 5.000000e+04 \n",
      "Permutation:  [44805 42699 39424 ..., 25580  1791 47666]\n",
      "iteration 0 / 150: loss 1536.125082\n",
      "iteration 100 / 150: loss 124.705368\n",
      "Softmax.predict\n",
      "training accuracy: 0.311184\n",
      "Softmax.predict\n",
      "validation accuracy: 0.341000\n",
      "-----------------------------------------\n",
      "Start Softmax lr 5.000000e-07 reg 1.000000e+08 \n",
      "Permutation:  [24293 29531 35021 ...,  6090   372 40095]\n",
      "iteration 0 / 150: loss 3087192.022742\n",
      "iteration 100 / 150: loss inf"
     ]
    },
    {
     "name": "stderr",
     "output_type": "stream",
     "text": [
      "cs231n/classifiers/softmax.py:48: RuntimeWarning: divide by zero encountered in log\n",
      "  loss += -np.log(probabilities[j])\n",
      "cs231n/classifiers/softmax.py:61: RuntimeWarning: overflow encountered in double_scalars\n",
      "  loss += reg * np.sum(W * W)\n"
     ]
    },
    {
     "name": "stdout",
     "output_type": "stream",
     "text": [
      "\n",
      "Softmax.predict\n",
      "training accuracy: 0.100265\n",
      "Softmax.predict\n",
      "validation accuracy: 0.087000\n",
      "lr 1.000000e-07 reg 5.000000e+04 train accuracy: 0.163633 val accuracy: 0.159000\n",
      "lr 1.000000e-07 reg 1.000000e+08 train accuracy: 0.100265 val accuracy: 0.087000\n",
      "lr 5.000000e-07 reg 5.000000e+04 train accuracy: 0.311184 val accuracy: 0.341000\n",
      "lr 5.000000e-07 reg 1.000000e+08 train accuracy: 0.100265 val accuracy: 0.087000\n",
      "best validation accuracy achieved during cross-validation: 0.341000\n"
     ]
    },
    {
     "name": "stderr",
     "output_type": "stream",
     "text": [
      "cs231n/classifiers/softmax.py:61: RuntimeWarning: overflow encountered in multiply\n",
      "  loss += reg * np.sum(W * W)\n"
     ]
    }
   ],
   "source": [
    "# Use the validation set to tune hyperparameters (regularization strength and\n",
    "# learning rate). You should experiment with different ranges for the learning\n",
    "# rates and regularization strengths; if you are careful you should be able to\n",
    "# get a classification accuracy of over 0.35 on the validation set.\n",
    "import cs231n\n",
    "from cs231n.classifiers import Softmax\n",
    "results = {}\n",
    "best_val = -1\n",
    "best_softmax = None\n",
    "learning_rates = [1e-7, 5e-7]\n",
    "regularization_strengths = [5e4, 1e8]\n",
    "\n",
    "################################################################################\n",
    "# TODO:                                                                        #\n",
    "# Use the validation set to set the learning rate and regularization strength. #\n",
    "# This should be identical to the validation that you did for the SVM; save    #\n",
    "# the best trained softmax classifer in best_softmax.                          #\n",
    "################################################################################\n",
    "for learning_rate in learning_rates:\n",
    "#for learning_rate in np.logspace(-4, 2, num=7):\n",
    "    for reg in regularization_strengths:\n",
    "    #for reg in np.logspace(4, 5, num=7):\n",
    "        print '-----------------------------------------'\n",
    "        print 'Start Softmax lr %e reg %e ' % (learning_rate, reg)\n",
    "        softmax = cs231n.classifiers.Softmax()\n",
    "        loss_hist = softmax.train(X_train, y_train, learning_rate=learning_rate, \n",
    "                              reg=reg, num_iters=1500, verbose=True)\n",
    "\n",
    "        y_train_pred = softmax.predict(X_train)\n",
    "        #print np.min(y_train)\n",
    "        train_acc = np.mean(y_train == y_train_pred)\n",
    "        print 'training accuracy: %f' % (train_acc, )\n",
    "\n",
    "        y_val_pred = softmax.predict(X_val)\n",
    "        val_acc = np.mean(y_val == y_val_pred)\n",
    "        print 'validation accuracy: %f' % (val_acc, )\n",
    "        \n",
    "        results[(learning_rate, reg)] = (train_acc, val_acc)\n",
    "        \n",
    "        if val_acc > best_val:\n",
    "            best_val = val_acc\n",
    "            best_softmax = softmax\n",
    "#\n",
    "################################################################################\n",
    "#                              END OF YOUR CODE                                #\n",
    "################################################################################\n",
    "    \n",
    "# Print out results.\n",
    "for lr, reg in sorted(results):\n",
    "    train_accuracy, val_accuracy = results[(lr, reg)]\n",
    "    print 'lr %e reg %e train accuracy: %f val accuracy: %f' % (\n",
    "                lr, reg, train_accuracy, val_accuracy)\n",
    "    \n",
    "print 'best validation accuracy achieved during cross-validation: %f' % best_val"
   ]
  },
  {
   "cell_type": "code",
   "execution_count": 16,
   "metadata": {
    "collapsed": false
   },
   "outputs": [
    {
     "name": "stdout",
     "output_type": "stream",
     "text": [
      "Softmax.predict\n",
      "softmax on raw pixels final test set accuracy: 0.313000\n"
     ]
    }
   ],
   "source": [
    "# evaluate on test set\n",
    "# Evaluate the best softmax on test set\n",
    "y_test_pred = best_softmax.predict(X_test)\n",
    "test_accuracy = np.mean(y_test == y_test_pred)\n",
    "print 'softmax on raw pixels final test set accuracy: %f' % (test_accuracy, )"
   ]
  },
  {
   "cell_type": "code",
   "execution_count": 17,
   "metadata": {
    "collapsed": false
   },
   "outputs": [
    {
     "data": {
      "image/png": "[encoded data removed]",
      "text/plain": [
       "<matplotlib.figure.Figure at 0x7f7a7637a2d0>"
      ]
     },
     "metadata": {},
     "output_type": "display_data"
    }
   ],
   "source": [
    "# Visualize the learned weights for each class\n",
    "w = best_softmax.W[:-1,:] # strip out the bias\n",
    "w = w.reshape(32, 32, 3, 10)\n",
    "\n",
    "w_min, w_max = np.min(w), np.max(w)\n",
    "\n",
    "classes = ['plane', 'car', 'bird', 'cat', 'deer', 'dog', 'frog', 'horse', 'ship', 'truck']\n",
    "for i in xrange(10):\n",
    "  plt.subplot(2, 5, i + 1)\n",
    "  \n",
    "  # Rescale the weights to be between 0 and 255\n",
    "  wimg = 255.0 * (w[:, :, :, i].squeeze() - w_min) / (w_max - w_min)\n",
    "  plt.imshow(wimg.astype('uint8'))\n",
    "  plt.axis('off')\n",
    "  plt.title(classes[i])"
   ]
  }
 ],
 "metadata": {
  "kernelspec": {
   "display_name": "Python [Root]",
   "language": "python",
   "name": "Python [Root]"
  },
  "language_info": {
   "codemirror_mode": {
    "name": "ipython",
    "version": 2
   },
   "file_extension": ".py",
   "mimetype": "text/x-python",
   "name": "python",
   "nbconvert_exporter": "python",
   "pygments_lexer": "ipython2",
   "version": "2.7.12"
  }
 },
 "nbformat": 4,
 "nbformat_minor": 0
}
